{
 "cells": [
  {
   "cell_type": "markdown",
   "metadata": {},
   "source": [
    "# Leaflet cluster map of talk locations\n",
    "\n",
    "Run this from the _talks/ directory, which contains .md files of all your talks. This scrapes the location YAML field from each .md file, geolocates it with geopy/Nominatim, and uses the getorg library to output data, HTML, and Javascript for a standalone cluster map."
   ]
  },
  {
   "cell_type": "code",
   "execution_count": 1,
   "metadata": {},
   "outputs": [
    {
     "name": "stdout",
     "output_type": "stream",
     "text": [
      "Requirement already satisfied: getorg in /home/sagarsawant/.localpython/bin/myenv/lib/python3.11/site-packages (0.3.1)\n",
      "Requirement already satisfied: geopy in /home/sagarsawant/.localpython/bin/myenv/lib/python3.11/site-packages (from getorg) (2.4.1)\n",
      "Requirement already satisfied: pygithub in /home/sagarsawant/.localpython/bin/myenv/lib/python3.11/site-packages (from getorg) (2.4.0)\n",
      "Requirement already satisfied: retrying in /home/sagarsawant/.localpython/bin/myenv/lib/python3.11/site-packages (from getorg) (1.3.4)\n",
      "Requirement already satisfied: geographiclib<3,>=1.52 in /home/sagarsawant/.localpython/bin/myenv/lib/python3.11/site-packages (from geopy->getorg) (2.0)\n",
      "Requirement already satisfied: pynacl>=1.4.0 in /home/sagarsawant/.localpython/bin/myenv/lib/python3.11/site-packages (from pygithub->getorg) (1.5.0)\n",
      "Requirement already satisfied: requests>=2.14.0 in /home/sagarsawant/.localpython/bin/myenv/lib/python3.11/site-packages (from pygithub->getorg) (2.32.3)\n",
      "Requirement already satisfied: pyjwt[crypto]>=2.4.0 in /home/sagarsawant/.localpython/bin/myenv/lib/python3.11/site-packages (from pygithub->getorg) (2.9.0)\n",
      "Requirement already satisfied: typing-extensions>=4.0.0 in /home/sagarsawant/.localpython/bin/myenv/lib/python3.11/site-packages (from pygithub->getorg) (4.12.2)\n",
      "Requirement already satisfied: urllib3>=1.26.0 in /home/sagarsawant/.localpython/bin/myenv/lib/python3.11/site-packages (from pygithub->getorg) (2.2.3)\n",
      "Requirement already satisfied: Deprecated in /home/sagarsawant/.localpython/bin/myenv/lib/python3.11/site-packages (from pygithub->getorg) (1.2.14)\n",
      "Requirement already satisfied: six>=1.7.0 in /home/sagarsawant/.localpython/bin/myenv/lib/python3.11/site-packages (from retrying->getorg) (1.16.0)\n",
      "Requirement already satisfied: cryptography>=3.4.0 in /home/sagarsawant/.localpython/bin/myenv/lib/python3.11/site-packages (from pyjwt[crypto]>=2.4.0->pygithub->getorg) (43.0.1)\n",
      "Requirement already satisfied: cffi>=1.4.1 in /home/sagarsawant/.localpython/bin/myenv/lib/python3.11/site-packages (from pynacl>=1.4.0->pygithub->getorg) (1.17.1)\n",
      "Requirement already satisfied: charset-normalizer<4,>=2 in /home/sagarsawant/.localpython/bin/myenv/lib/python3.11/site-packages (from requests>=2.14.0->pygithub->getorg) (3.3.2)\n",
      "Requirement already satisfied: idna<4,>=2.5 in /home/sagarsawant/.localpython/bin/myenv/lib/python3.11/site-packages (from requests>=2.14.0->pygithub->getorg) (3.10)\n",
      "Requirement already satisfied: certifi>=2017.4.17 in /home/sagarsawant/.localpython/bin/myenv/lib/python3.11/site-packages (from requests>=2.14.0->pygithub->getorg) (2024.8.30)\n",
      "Requirement already satisfied: wrapt<2,>=1.10 in /home/sagarsawant/.localpython/bin/myenv/lib/python3.11/site-packages (from Deprecated->pygithub->getorg) (1.16.0)\n",
      "Requirement already satisfied: pycparser in /home/sagarsawant/.localpython/bin/myenv/lib/python3.11/site-packages (from cffi>=1.4.1->pynacl>=1.4.0->pygithub->getorg) (2.22)\n",
      "Note: you may need to restart the kernel to use updated packages.\n",
      "IPywidgets and ipyleaflet support enabled.\n"
     ]
    }
   ],
   "source": [
    "%pip install getorg --upgrade\n",
    "import glob\n",
    "import getorg\n",
    "from geopy import Nominatim"
   ]
  },
  {
   "cell_type": "code",
   "execution_count": 2,
   "metadata": {},
   "outputs": [],
   "source": [
    "g = glob.glob(\"*.md\")"
   ]
  },
  {
   "cell_type": "code",
   "execution_count": 3,
   "metadata": {},
   "outputs": [],
   "source": [
    "geocoder = Nominatim(user_agent='http')\n",
    "location_dict = {}\n",
    "location = \"\"\n",
    "permalink = \"\"\n",
    "title = \"\""
   ]
  },
  {
   "cell_type": "code",
   "execution_count": 4,
   "metadata": {},
   "outputs": [
    {
     "name": "stdout",
     "output_type": "stream",
     "text": [
      "Coimbatore, India. \n",
      " Coimbatore, Coimbatore North, Coimbatore, Tamil Nadu, 641001, India\n",
      "Chennai, India \n",
      " Chennai, Tamil Nadu, 600001, India\n",
      "Chennai, India \n",
      " Chennai, Tamil Nadu, 600001, India\n",
      "Nainital, India. \n",
      " Nainital, Uttarakhand, India\n",
      "Chennai, India \n",
      " Chennai, Tamil Nadu, 600001, India\n",
      "Paderborn, Germany. \n",
      " Paderborn, Kreis Paderborn, Nordrhein-Westfalen, Deutschland\n",
      "Adyar, India \n",
      " Zone 13 Adyar, Chennai, Tamil Nadu, 600001, India\n",
      "Champs-Sur-Marne, France \n",
      " Champs-sur-Marne, Torcy, Seine-et-Marne, Île-de-France, France métropolitaine, 77420, France\n",
      "Auroville, India. \n",
      " Auroville, Vanur, Viluppuram, Tamil Nadu, 605101, India\n",
      "Chennai, India \n",
      " Chennai, Tamil Nadu, 600001, India\n",
      "Matunga, India \n",
      " Matunga, Bhandarkar Road, F/N Ward, Zone 2, Mumbai, Mumbai City, Maharashtra, 400019, India\n",
      "Paris, France \n",
      " Paris, Île-de-France, France métropolitaine, France\n",
      "Kalavakkam, Tamilnadu, India. \n",
      " Kālavākkam, Tiruporur, Chengalpattu, Tamil Nadu, 603105, India\n",
      "Mumbai, India \n",
      " Mumbai, Mumbai Suburban, Maharashtra, India\n"
     ]
    }
   ],
   "source": [
    "\n",
    "for file in g:\n",
    "    with open(file, 'r') as f:\n",
    "        lines = f.read()\n",
    "        if lines.find('location: \"') > 1:\n",
    "            loc_start = lines.find('location: \"') + 11\n",
    "            lines_trim = lines[loc_start:]\n",
    "            loc_end = lines_trim.find('\"')\n",
    "            location = lines_trim[:loc_end]\n",
    "                            \n",
    "           \n",
    "        location_dict[location] = geocoder.geocode(location)\n",
    "        print(location, \"\\n\", location_dict[location])\n"
   ]
  },
  {
   "cell_type": "code",
   "execution_count": 5,
   "metadata": {},
   "outputs": [
    {
     "data": {
      "text/plain": [
       "'Written map to ../talkmap/'"
      ]
     },
     "execution_count": 5,
     "metadata": {},
     "output_type": "execute_result"
    }
   ],
   "source": [
    "m = getorg.orgmap.create_map_obj()\n",
    "getorg.orgmap.output_html_cluster_map(location_dict, folder_name=\"../talkmap\", hashed_usernames=False)"
   ]
  },
  {
   "cell_type": "code",
   "execution_count": null,
   "metadata": {},
   "outputs": [],
   "source": []
  },
  {
   "cell_type": "code",
   "execution_count": null,
   "metadata": {},
   "outputs": [],
   "source": []
  }
 ],
 "metadata": {
  "anaconda-cloud": {},
  "kernelspec": {
   "display_name": "myenv",
   "language": "python",
   "name": "myenv"
  },
  "language_info": {
   "codemirror_mode": {
    "name": "ipython",
    "version": 3
   },
   "file_extension": ".py",
   "mimetype": "text/x-python",
   "name": "python",
   "nbconvert_exporter": "python",
   "pygments_lexer": "ipython3",
   "version": "3.11.2"
  }
 },
 "nbformat": 4,
 "nbformat_minor": 1
}
