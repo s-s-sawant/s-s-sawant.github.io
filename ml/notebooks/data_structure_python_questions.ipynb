{
 "cells": [
  {
   "cell_type": "markdown",
   "id": "b59d67fd-dcff-4293-ac65-739055495c9e",
   "metadata": {},
   "source": [
    "## 📖 Data Structures & Algorithms Fundamentals\n",
    "\n",
    "**Focus Areas**: Core data structures, graph algorithms, and system design patterns\n",
    "\n",
    "This notebook dives deep into fundamental computer science concepts implemented in Python. Perfect for technical interview preparation and building a solid foundation in algorithms and data structures:\n",
    "\n",
    "    Linear Data Structures - Implement stacks, queues, and linked lists from scratch\n",
    "\n",
    "    Hash Tables & Sets - Master hashing, collision handling, and efficient lookups\n",
    "\n",
    "    Heap Operations - Work with priority queues, heap-based algorithms, and running statistics\n",
    "\n",
    "    Graph Representations - Build adjacency lists and understand graph traversal concepts\n",
    "\n",
    "    Advanced Patterns - LRU cache implementation, cycle detection, and two-pointer techniques\n",
    "\n",
    "    System Design Concepts - Learn about caching strategies and data organization\n",
    "\n",
    "Skill Level: Intermediate to Advanced\n",
    "Estimated Time: 3-4 hours\n",
    "Prerequisites: Basic understanding of algorithms and object-oriented programming"
   ]
  },
  {
   "cell_type": "markdown",
   "id": "59d4c9c5",
   "metadata": {},
   "source": [
    "### 1. What's the difference between a list, tuple, set, and dictionary? When should you use each?"
   ]
  },
  {
   "cell_type": "markdown",
   "id": "hint-1",
   "metadata": {},
   "source": [
    "<details>\n",
    "<summary>💡 Click for hint</summary>\n",
    "\n",
    "**Approach**: Think about the key characteristics of each data structure: mutability, ordering, duplicates, and access patterns.\n",
    "\n",
    "**Key concepts**: Mutability, indexing, hashing, key-value pairs\n",
    "\n",
    "**Consider**: When do you need ordered data? When do you need unique elements? When do you need fast lookups?\n",
    "\n",
    "</details>"
   ]
  },
  {
   "cell_type": "code",
   "execution_count": null,
   "id": "9ff9b0ec",
   "metadata": {},
   "outputs": [],
   "source": [
    "# Use this cell to write your explanation\n",
    "# Compare: mutability, ordering, duplicates, use cases\n"
   ]
  },
  {
   "cell_type": "markdown",
   "id": "a4889b68",
   "metadata": {},
   "source": [
    "### 2. Implement a stack using a Python list with push, pop, and peek operations."
   ]
  },
  {
   "cell_type": "markdown",
   "id": "hint-2",
   "metadata": {},
   "source": [
    "<details>\n",
    "<summary>💡 Click for hint</summary>\n",
    "\n",
    "**Approach**: Use list.append() for push, list.pop() for pop, and list[-1] for peek.\n",
    "\n",
    "**Key concepts**: LIFO (Last In, First Out), list methods\n",
    "\n",
    "**Edge cases**: Handle empty stack for pop and peek operations\n",
    "\n",
    "</details>"
   ]
  },
  {
   "cell_type": "code",
   "execution_count": 1,
   "id": "0ea9db2e",
   "metadata": {},
   "outputs": [],
   "source": [
    "class Stack:\n",
    "    def __init__(self):\n",
    "        self.stack = []\n",
    "\n",
    "    def push(self, value):\n",
    "        # Add element to top of stack\n",
    "        pass\n",
    "\n",
    "    def pop(self):\n",
    "        # Remove and return top element\n",
    "        pass\n",
    "\n",
    "    def peek(self):\n",
    "        # Return top element without removing\n",
    "        pass"
   ]
  },
  {
   "cell_type": "code",
   "execution_count": null,
   "id": "9f6d4585",
   "metadata": {},
   "outputs": [],
   "source": [
    "s = Stack()\n",
    "s.push(10)\n",
    "s.push(20)\n",
    "print(s.peek())  # Expected: 20\n",
    "print(s.pop())   # Expected: 20\n",
    "print(s.pop())   # Expected: 10"
   ]
  },
  {
   "cell_type": "markdown",
   "id": "8e9d336b",
   "metadata": {},
   "source": [
    "### 3. Implement a queue using collections.deque."
   ]
  },
  {
   "cell_type": "markdown",
   "id": "hint-3",
   "metadata": {},
   "source": [
    "<details>\n",
    "<summary>💡 Click for hint</summary>\n",
    "\n",
    "**Approach**: Use deque.append() for enqueue and deque.popleft() for dequeue.\n",
    "\n",
    "**Key concepts**: FIFO (First In, First Out), deque efficiency\n",
    "\n",
    "**Why deque**: O(1) operations at both ends unlike list\n",
    "\n",
    "</details>"
   ]
  },
  {
   "cell_type": "code",
   "execution_count": null,
   "id": "57f44116",
   "metadata": {},
   "outputs": [],
   "source": [
    "from collections import deque\n",
    "\n",
    "class Queue:\n",
    "    def __init__(self):\n",
    "        self.q = deque()\n",
    "\n",
    "    def enqueue(self, value):\n",
    "        # Add element to rear of queue\n",
    "        pass\n",
    "\n",
    "    def dequeue(self):\n",
    "        # Remove and return front element\n",
    "        pass"
   ]
  },
  {
   "cell_type": "code",
   "execution_count": null,
   "id": "f2f5b706",
   "metadata": {},
   "outputs": [],
   "source": [
    "q = Queue()\n",
    "q.enqueue(1)\n",
    "q.enqueue(2)\n",
    "print(q.dequeue())  # Expected: 1"
   ]
  },
  {
   "cell_type": "markdown",
   "id": "c3d76ac1",
   "metadata": {},
   "source": [
    "### 4. Write a class to implement a singly linked list with insert and delete operations."
   ]
  },
  {
   "cell_type": "markdown",
   "id": "hint-4",
   "metadata": {},
   "source": [
    "<details>\n",
    "<summary>💡 Click for hint</summary>\n",
    "\n",
    "**Approach**: For insert, add at head. For delete, traverse to find node and update pointers.\n",
    "\n",
    "**Key concepts**: Node pointers, head reference, pointer manipulation\n",
    "\n",
    "**Edge cases**: Empty list, deleting head node, node not found\n",
    "\n",
    "</details>"
   ]
  },
  {
   "cell_type": "code",
   "execution_count": null,
   "id": "88c74fc0",
   "metadata": {},
   "outputs": [],
   "source": [
    "class Node:\n",
    "    def __init__(self, value):\n",
    "        self.value = value\n",
    "        self.next = None\n",
    "\n",
    "class LinkedList:\n",
    "    def __init__(self):\n",
    "        self.head = None\n",
    "\n",
    "    def insert(self, value):\n",
    "        # Insert at head\n",
    "        pass\n",
    "\n",
    "    def delete(self, value):\n",
    "        # Delete first occurrence of value\n",
    "        pass"
   ]
  },
  {
   "cell_type": "code",
   "execution_count": null,
   "id": "0ce66418",
   "metadata": {},
   "outputs": [],
   "source": [
    "ll = LinkedList()\n",
    "ll.insert(1)\n",
    "ll.insert(2)\n",
    "ll.delete(1)"
   ]
  },
  {
   "cell_type": "markdown",
   "id": "326f9760",
   "metadata": {},
   "source": [
    "### 5. Detect a cycle in a linked list using Floyd's Tortoise and Hare algorithm."
   ]
  },
  {
   "cell_type": "markdown",
   "id": "hint-5",
   "metadata": {},
   "source": [
    "<details>\n",
    "<summary>💡 Click for hint</summary>\n",
    "\n",
    "**Approach**: Use two pointers - slow moves 1 step, fast moves 2 steps. If they meet, there's a cycle.\n",
    "\n",
    "**Key concepts**: Two-pointer technique, cycle detection\n",
    "\n",
    "**Logic**: If there's a cycle, fast pointer will eventually catch up to slow pointer\n",
    "\n",
    "</details>"
   ]
  },
  {
   "cell_type": "code",
   "execution_count": null,
   "id": "20b92b0a",
   "metadata": {},
   "outputs": [],
   "source": [
    "def has_cycle(head):\n",
    "    # Use slow and fast pointers\n",
    "    pass"
   ]
  },
  {
   "cell_type": "code",
   "execution_count": null,
   "id": "9f3fe92b",
   "metadata": {},
   "outputs": [],
   "source": [
    "# Create a linked list with cycle to test\n",
    "# Test the has_cycle function"
   ]
  },
  {
   "cell_type": "markdown",
   "id": "fec81436",
   "metadata": {},
   "source": [
    "### 6. Count character frequency in a string using a dictionary."
   ]
  },
  {
   "cell_type": "markdown",
   "id": "hint-6",
   "metadata": {},
   "source": [
    "<details>\n",
    "<summary>💡 Click for hint</summary>\n",
    "\n",
    "**Approach**: Iterate through string and use dictionary to count each character.\n",
    "\n",
    "**Key concepts**: Dictionary get() method or defaultdict\n",
    "\n",
    "**Pattern**: `freq[char] = freq.get(char, 0) + 1`\n",
    "\n",
    "</details>"
   ]
  },
  {
   "cell_type": "code",
   "execution_count": null,
   "id": "3e47a142",
   "metadata": {},
   "outputs": [],
   "source": [
    "def char_frequency(s):\n",
    "    # Count frequency of each character\n",
    "    pass"
   ]
  },
  {
   "cell_type": "code",
   "execution_count": null,
   "id": "0c90fa32",
   "metadata": {},
   "outputs": [],
   "source": [
    "print(char_frequency(\"abracadabra\"))"
   ]
  },
  {
   "cell_type": "markdown",
   "id": "4888cca1",
   "metadata": {},
   "source": [
    "### 7. Merge two dictionaries and sum values for common keys."
   ]
  },
  {
   "cell_type": "markdown",
   "id": "hint-7",
   "metadata": {},
   "source": [
    "<details>\n",
    "<summary>💡 Click for hint</summary>\n",
    "\n",
    "**Approach**: Iterate through both dictionaries and add values for common keys.\n",
    "\n",
    "**Key concepts**: Dictionary iteration, key checking\n",
    "\n",
    "**Steps**: 1) Start with copy of first dict 2) Add values from second dict\n",
    "\n",
    "</details>"
   ]
  },
  {
   "cell_type": "code",
   "execution_count": null,
   "id": "a7bba8d3",
   "metadata": {},
   "outputs": [],
   "source": [
    "def merge_dicts(d1, d2):\n",
    "    # Merge dictionaries and sum common values\n",
    "    pass"
   ]
  },
  {
   "cell_type": "code",
   "execution_count": null,
   "id": "db186526",
   "metadata": {},
   "outputs": [],
   "source": [
    "print(merge_dicts({'a': 1, 'b': 2}, {'b': 3, 'c': 4}))"
   ]
  },
  {
   "cell_type": "markdown",
   "id": "caea5cd0",
   "metadata": {},
   "source": [
    "### 8. Use a dictionary to group elements by their modulo result (e.g., key = num % k)."
   ]
  },
  {
   "cell_type": "markdown",
   "id": "hint-8",
   "metadata": {},
   "source": [
    "<details>\n",
    "<summary>💡 Click for hint</summary>\n",
    "\n",
    "**Approach**: Use defaultdict(list) to group numbers by their remainder when divided by k.\n",
    "\n",
    "**Key concepts**: Modulo operation, defaultdict\n",
    "\n",
    "**Pattern**: `groups[num % k].append(num)`\n",
    "\n",
    "</details>"
   ]
  },
  {
   "cell_type": "code",
   "execution_count": null,
   "id": "bf82b4fa",
   "metadata": {},
   "outputs": [],
   "source": [
    "def group_by_modulo(lst, k):\n",
    "    # Group numbers by remainder when divided by k\n",
    "    pass"
   ]
  },
  {
   "cell_type": "code",
   "execution_count": null,
   "id": "6096444d",
   "metadata": {},
   "outputs": [],
   "source": [
    "print(group_by_modulo([1, 2, 3, 4, 5, 6], 3))"
   ]
  },
  {
   "cell_type": "markdown",
   "id": "f9630df8",
   "metadata": {},
   "source": [
    "### 9. Use heapq to find the top K largest numbers from a list."
   ]
  },
  {
   "cell_type": "markdown",
   "id": "hint-9",
   "metadata": {},
   "source": [
    "<details>\n",
    "<summary>💡 Click for hint</summary>\n",
    "\n",
    "**Approach**: Use heapq.nlargest() or maintain a min-heap of size k.\n",
    "\n",
    "**Key concepts**: heapq.nlargest(), min-heap property\n",
    "\n",
    "**Efficient method**: heapq.nlargest(k, nums)\n",
    "\n",
    "</details>"
   ]
  },
  {
   "cell_type": "code",
   "execution_count": null,
   "id": "17de567c",
   "metadata": {},
   "outputs": [],
   "source": [
    "import heapq\n",
    "\n",
    "def top_k_largest(nums, k):\n",
    "    # Find k largest numbers\n",
    "    pass"
   ]
  },
  {
   "cell_type": "code",
   "execution_count": null,
   "id": "44a660ab",
   "metadata": {},
   "outputs": [],
   "source": [
    "print(top_k_largest([3, 1, 5, 12, 2, 11], 3))  # Expected: [5, 11, 12]"
   ]
  },
  {
   "cell_type": "markdown",
   "id": "786db437",
   "metadata": {},
   "source": [
    "### 10. Implement a min-heap and max-heap using heapq."
   ]
  },
  {
   "cell_type": "markdown",
   "id": "hint-10",
   "metadata": {},
   "source": [
    "<details>\n",
    "<summary>💡 Click for hint</summary>\n",
    "\n",
    "**Approach**: heapq is min-heap by default. For max-heap, negate values when pushing/popping.\n",
    "\n",
    "**Key concepts**: heapq.heappush(), heapq.heappop(), value negation\n",
    "\n",
    "**Max-heap trick**: Store -val and negate when popping\n",
    "\n",
    "</details>"
   ]
  },
  {
   "cell_type": "code",
   "execution_count": null,
   "id": "3d413737",
   "metadata": {},
   "outputs": [],
   "source": [
    "# Implement both heaps using heapq\n",
    "import heapq\n",
    "\n",
    "class MinHeap:\n",
    "    def __init__(self):\n",
    "        self.heap = []\n",
    "\n",
    "    def push(self, val):\n",
    "        # Add element to min-heap\n",
    "        pass\n",
    "\n",
    "    def pop(self):\n",
    "        # Remove and return minimum element\n",
    "        pass\n",
    "\n",
    "class MaxHeap:\n",
    "    def __init__(self):\n",
    "        self.heap = []\n",
    "\n",
    "    def push(self, val):\n",
    "        # Add element to max-heap (use negation)\n",
    "        pass\n",
    "\n",
    "    def pop(self):\n",
    "        # Remove and return maximum element\n",
    "        pass"
   ]
  },
  {
   "cell_type": "code",
   "execution_count": null,
   "id": "d380d8e7",
   "metadata": {},
   "outputs": [],
   "source": [
    "minh = MinHeap()\n",
    "minh.push(3)\n",
    "minh.push(1)\n",
    "print(minh.pop())  # Expected: 1"
   ]
  },
  {
   "cell_type": "markdown",
   "id": "f08e4f59",
   "metadata": {},
   "source": [
    "### 11. Use a set to remove duplicates from a list while preserving order."
   ]
  },
  {
   "cell_type": "markdown",
   "id": "hint-11",
   "metadata": {},
   "source": [
    "<details>\n",
    "<summary>💡 Click for hint</summary>\n",
    "\n",
    "**Approach**: Use a set to track seen elements and a list to maintain order.\n",
    "\n",
    "**Key concepts**: Set for O(1) lookup, order preservation\n",
    "\n",
    "**Pattern**: Check if element in seen set before adding to result\n",
    "\n",
    "</details>"
   ]
  },
  {
   "cell_type": "code",
   "execution_count": null,
   "id": "863b140d",
   "metadata": {},
   "outputs": [],
   "source": [
    "def remove_duplicates_order(lst):\n",
    "    # Remove duplicates while preserving order\n",
    "    pass"
   ]
  },
  {
   "cell_type": "code",
   "execution_count": null,
   "id": "3780b8b8",
   "metadata": {},
   "outputs": [],
   "source": [
    "print(remove_duplicates_order([1, 2, 2, 3, 1]))"
   ]
  },
  {
   "cell_type": "markdown",
   "id": "8818d357",
   "metadata": {},
   "source": [
    "### 12. Find the first non-repeating character in a string using OrderedDict."
   ]
  },
  {
   "cell_type": "markdown",
   "id": "hint-12",
   "metadata": {},
   "source": [
    "<details>\n",
    "<summary>💡 Click for hint</summary>\n",
    "\n",
    "**Approach**: Count frequencies with OrderedDict, then find first character with count 1.\n",
    "\n",
    "**Key concepts**: OrderedDict maintains insertion order, frequency counting\n",
    "\n",
    "**Steps**: 1) Count all characters 2) Find first with count 1\n",
    "\n",
    "</details>"
   ]
  },
  {
   "cell_type": "code",
   "execution_count": null,
   "id": "5b7bf65f",
   "metadata": {},
   "outputs": [],
   "source": [
    "from collections import OrderedDict\n",
    "\n",
    "def first_unique_char(s):\n",
    "    # Find first non-repeating character\n",
    "    pass"
   ]
  },
  {
   "cell_type": "code",
   "execution_count": null,
   "id": "e78f0784",
   "metadata": {},
   "outputs": [],
   "source": [
    "print(first_unique_char(\"swiss\"))  # Expected: 'w'"
   ]
  },
  {
   "cell_type": "markdown",
   "id": "7aa0b6c0",
   "metadata": {},
   "source": [
    "### 13. Implement an LRU cache using collections.OrderedDict."
   ]
  },
  {
   "cell_type": "markdown",
   "id": "hint-13",
   "metadata": {},
   "source": [
    "<details>\n",
    "<summary>💡 Click for hint</summary>\n",
    "\n",
    "**Approach**: Use OrderedDict to track access order. Move accessed items to end, remove from beginning when full.\n",
    "\n",
    "**Key concepts**: OrderedDict.move_to_end(), popitem(last=False)\n",
    "\n",
    "**LRU logic**: Recently used items go to end, least recent at beginning\n",
    "\n",
    "</details>"
   ]
  },
  {
   "cell_type": "code",
   "execution_count": null,
   "id": "b5aabeb8",
   "metadata": {},
   "outputs": [],
   "source": [
    "from collections import OrderedDict\n",
    "\n",
    "class LRUCache:\n",
    "    def __init__(self, capacity):\n",
    "        # Initialize cache with capacity\n",
    "        pass\n",
    "\n",
    "    def get(self, key):\n",
    "        # Get value and mark as recently used\n",
    "        pass\n",
    "\n",
    "    def put(self, key, value):\n",
    "        # Put value and handle capacity\n",
    "        pass"
   ]
  },
  {
   "cell_type": "code",
   "execution_count": null,
   "id": "8faef831",
   "metadata": {},
   "outputs": [],
   "source": [
    "cache = LRUCache(2)\n",
    "cache.put(1, 1)\n",
    "cache.put(2, 2)\n",
    "print(cache.get(1))  # Expected: 1"
   ]
  },
  {
   "cell_type": "markdown",
   "id": "07778063",
   "metadata": {},
   "source": [
    "### 14. Check if two lists are permutations of each other using hashing."
   ]
  },
  {
   "cell_type": "markdown",
   "id": "hint-14",
   "metadata": {},
   "source": [
    "<details>\n",
    "<summary>💡 Click for hint</summary>\n",
    "\n",
    "**Approach**: Convert both lists to Counter objects and compare, or use sorted().\n",
    "\n",
    "**Key concepts**: Counter comparison, element frequency\n",
    "\n",
    "**Simple method**: `Counter(lst1) == Counter(lst2)`\n",
    "\n",
    "</details>"
   ]
  },
  {
   "cell_type": "code",
   "execution_count": null,
   "id": "6c77aa8f",
   "metadata": {},
   "outputs": [],
   "source": [
    "def are_permutations(lst1, lst2):\n",
    "    # Check if lists are permutations\n",
    "    pass"
   ]
  },
  {
   "cell_type": "code",
   "execution_count": null,
   "id": "f5725f34",
   "metadata": {},
   "outputs": [],
   "source": [
    "print(are_permutations([1,2,3], [3,2,1]))  # Expected: True"
   ]
  },
  {
   "cell_type": "markdown",
   "id": "1a103618",
   "metadata": {},
   "source": [
    "### 15. Use a set to find the intersection of two lists."
   ]
  },
  {
   "cell_type": "markdown",
   "id": "hint-15",
   "metadata": {},
   "source": [
    "<details>\n",
    "<summary>💡 Click for hint</summary>\n",
    "\n",
    "**Approach**: Convert lists to sets and use set intersection operation.\n",
    "\n",
    "**Key concepts**: Set intersection (&), set() conversion\n",
    "\n",
    "**Pattern**: `list(set(lst1) & set(lst2))`\n",
    "\n",
    "</details>"
   ]
  },
  {
   "cell_type": "code",
   "execution_count": null,
   "id": "1e1312e8",
   "metadata": {},
   "outputs": [],
   "source": [
    "def list_intersection(lst1, lst2):\n",
    "    # Find common elements\n",
    "    pass"
   ]
  },
  {
   "cell_type": "code",
   "execution_count": null,
   "id": "5dcd7d0b",
   "metadata": {},
   "outputs": [],
   "source": [
    "print(list_intersection([1, 2, 3], [2, 3, 4]))  # Expected: [2, 3]"
   ]
  },
  {
   "cell_type": "markdown",
   "id": "692d19ed",
   "metadata": {},
   "source": [
    "### 16. Build an adjacency list using a dictionary for a given list of edges."
   ]
  },
  {
   "cell_type": "markdown",
   "id": "hint-16",
   "metadata": {},
   "source": [
    "<details>\n",
    "<summary>💡 Click for hint</summary>\n",
    "\n",
    "**Approach**: Use defaultdict(list) to store neighbors for each vertex.\n",
    "\n",
    "**Key concepts**: Graph representation, defaultdict\n",
    "\n",
    "**Consider**: Directed vs undirected graph (add both directions for undirected)\n",
    "\n",
    "</details>"
   ]
  },
  {
   "cell_type": "code",
   "execution_count": null,
   "id": "181f0123",
   "metadata": {},
   "outputs": [],
   "source": [
    "def build_adj_list(edges):\n",
    "    # Build adjacency list from edges\n",
    "    pass"
   ]
  },
  {
   "cell_type": "code",
   "execution_count": null,
   "id": "afa9ba28",
   "metadata": {},
   "outputs": [],
   "source": [
    "edges = [(1, 2), (2, 3), (1, 3)]\n",
    "print(build_adj_list(edges))"
   ]
  },
  {
   "cell_type": "markdown",
   "id": "52a2bd83",
   "metadata": {},
   "source": [
    "### 17. Implement a basic hash map using a list of lists for collision handling."
   ]
  },
  {
   "cell_type": "markdown",
   "id": "hint-17",
   "metadata": {},
   "source": [
    "<details>\n",
    "<summary>💡 Click for hint</summary>\n",
    "\n",
    "**Approach**: Use hash function to find bucket, then linear search within bucket for key.\n",
    "\n",
    "**Key concepts**: Hash function, collision handling, chaining\n",
    "\n",
    "**Steps**: 1) Hash key to find bucket 2) Search/update within bucket\n",
    "\n",
    "</details>"
   ]
  },
  {
   "cell_type": "code",
   "execution_count": null,
   "id": "a9c2de4f",
   "metadata": {},
   "outputs": [],
   "source": [
    "class HashMap:\n",
    "    def __init__(self):\n",
    "        self.size = 10\n",
    "        self.table = [[] for _ in range(self.size)]\n",
    "\n",
    "    def _hash(self, key):\n",
    "        # Simple hash function\n",
    "        pass\n",
    "\n",
    "    def put(self, key, value):\n",
    "        # Insert or update key-value pair\n",
    "        pass\n",
    "\n",
    "    def get(self, key):\n",
    "        # Retrieve value for key\n",
    "        pass"
   ]
  },
  {
   "cell_type": "code",
   "execution_count": null,
   "id": "a7da5b36",
   "metadata": {},
   "outputs": [],
   "source": [
    "hm = HashMap()\n",
    "hm.put(\"a\", 1)\n",
    "print(hm.get(\"a\"))  # Expected: 1"
   ]
  },
  {
   "cell_type": "markdown",
   "id": "6efb8356",
   "metadata": {},
   "source": [
    "### 18. Use a heap to efficiently maintain a running median."
   ]
  },
  {
   "cell_type": "markdown",
   "id": "hint-18",
   "metadata": {},
   "source": [
    "<details>\n",
    "<summary>💡 Click for hint</summary>\n",
    "\n",
    "**Approach**: Use two heaps - max-heap for smaller half, min-heap for larger half.\n",
    "\n",
    "**Key concepts**: Two heaps, balance maintenance, median calculation\n",
    "\n",
    "**Balance**: Keep heap sizes within 1 of each other\n",
    "\n",
    "</details>"
   ]
  },
  {
   "cell_type": "code",
   "execution_count": null,
   "id": "f7d6edd8",
   "metadata": {},
   "outputs": [],
   "source": [
    "import heapq\n",
    "\n",
    "class MedianFinder:\n",
    "    def __init__(self):\n",
    "        # Initialize two heaps\n",
    "        pass\n",
    "\n",
    "    def add_num(self, num):\n",
    "        # Add number and rebalance heaps\n",
    "        pass\n",
    "\n",
    "    def find_median(self):\n",
    "        # Calculate median from heap tops\n",
    "        pass"
   ]
  },
  {
   "cell_type": "code",
   "execution_count": null,
   "id": "d0264384",
   "metadata": {},
   "outputs": [],
   "source": [
    "mf = MedianFinder()\n",
    "mf.add_num(1)\n",
    "mf.add_num(2)\n",
    "print(mf.find_median())  # Expected: 1.5"
   ]
  },
  {
   "cell_type": "markdown",
   "id": "36006789",
   "metadata": {},
   "source": [
    "### 19. Implement a priority queue using heapq with custom objects."
   ]
  },
  {
   "cell_type": "markdown",
   "id": "hint-19",
   "metadata": {},
   "source": [
    "<details>\n",
    "<summary>💡 Click for hint</summary>\n",
    "\n",
    "**Approach**: Define __lt__ method in custom class for heap comparison.\n",
    "\n",
    "**Key concepts**: Custom comparison, __lt__ method, heapq with objects\n",
    "\n",
    "**Note**: The Task class is already properly defined with __lt__ method\n",
    "\n",
    "</details>"
   ]
  },
  {
   "cell_type": "code",
   "execution_count": null,
   "id": "8ab9dc1b",
   "metadata": {},
   "outputs": [],
   "source": [
    "import heapq\n",
    "\n",
    "class Task:\n",
    "    def __init__(self, priority, name):\n",
    "        self.priority = priority\n",
    "        self.name = name\n",
    "\n",
    "    def __lt__(self, other):\n",
    "        return self.priority < other.priority"
   ]
  },
  {
   "cell_type": "code",
   "execution_count": null,
   "id": "fb2fe136",
   "metadata": {},
   "outputs": [],
   "source": [
    "pq = []\n",
    "heapq.heappush(pq, Task(2, 'task2'))\n",
    "heapq.heappush(pq, Task(1, 'task1'))\n",
    "print(heapq.heappop(pq).name)  # Expected: 'task1'"
   ]
  },
  {
   "cell_type": "markdown",
   "id": "97944e14",
   "metadata": {},
   "source": [
    "### 20. Count frequencies of list elements and return the element with the highest count."
   ]
  },
  {
   "cell_type": "markdown",
   "id": "hint-20",
   "metadata": {},
   "source": [
    "<details>\n",
    "<summary>💡 Click for hint</summary>\n",
    "\n",
    "**Approach**: Use Counter to count frequencies, then use most_common() to get the top element.\n",
    "\n",
    "**Key concepts**: Counter.most_common(), tuple unpacking\n",
    "\n",
    "**Pattern**: `Counter(lst).most_common(1)[0][0]`\n",
    "\n",
    "</details>"
   ]
  },
  {
   "cell_type": "code",
   "execution_count": null,
   "id": "d989cd36",
   "metadata": {},
   "outputs": [],
   "source": [
    "from collections import Counter\n",
    "\n",
    "def most_common_element(lst):\n",
    "    # Find element with highest frequency\n",
    "    pass"
   ]
  },
  {
   "cell_type": "code",
   "execution_count": null,
   "id": "19674339",
   "metadata": {},
   "outputs": [],
   "source": [
    "print(most_common_element([1, 2, 2, 3, 3, 3]))  # Expected: 3"
   ]
  }
 ],
 "metadata": {
  "kernelspec": {
   "display_name": "Python 3.12.3",
   "language": "python",
   "name": "python3.12.3"
  },
  "language_info": {
   "codemirror_mode": {
    "name": "ipython",
    "version": 3
   },
   "file_extension": ".py",
   "mimetype": "text/x-python",
   "name": "python",
   "nbconvert_exporter": "python",
   "pygments_lexer": "ipython3",
   "version": "3.12.3"
  }
 },
 "nbformat": 4,
 "nbformat_minor": 5
}
