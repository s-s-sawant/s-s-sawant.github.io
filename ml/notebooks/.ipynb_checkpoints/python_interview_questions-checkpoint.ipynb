{
 "cells": [
  {
   "cell_type": "markdown",
   "id": "47f2a802-8fb1-49e7-bedf-836d053f145b",
   "metadata": {},
   "source": [
    "## 📖 Python Fundamentals & Advanced Techniques\n",
    "\n",
    "**Focus Areas**: List comprehensions, functional programming, data manipulation, and algorithmic thinking\n",
    "\n",
    "This notebook covers essential Python programming patterns and advanced techniques that every Python developer should master. You'll work with:\n",
    "\n",
    "    List Comprehensions & Functional Programming - Master the art of writing concise, readable code\n",
    "\n",
    "    Data Structure Manipulation - Work with nested lists, dictionaries, and complex data transformations\n",
    "\n",
    "    Algorithm Implementation - Practice sliding window, frequency counting, and optimization techniques\n",
    "\n",
    "    String Processing - Handle text manipulation, palindromes, and pattern matching\n",
    "\n",
    "    Advanced Python Features - Explore decorators, generators, and exception handling\n",
    "\n",
    "Skill Level: Intermediate to Advanced\n",
    "Estimated Time: 2-3 hours\n",
    "Prerequisites: Basic Python syntax and data types"
   ]
  },
  {
   "cell_type": "markdown",
   "id": "4a267266",
   "metadata": {},
   "source": [
    "### 1. Flatten a nested list using list comprehension."
   ]
  },
  {
   "cell_type": "markdown",
   "id": "hint-1",
   "metadata": {},
   "source": [
    "<details>\n",
    "<summary>💡 Click for hint</summary>\n",
    "\n",
    "**Approach**: Use nested list comprehension to iterate through both the outer list and inner sublists.\n",
    "\n",
    "**Key concepts**: List comprehension with multiple for loops\n",
    "\n",
    "**Pattern**: `[item for sublist in nested_list for item in sublist]`\n",
    "\n",
    "</details>"
   ]
  },
  {
   "cell_type": "code",
   "execution_count": 1,
   "id": "b0b94aff",
   "metadata": {},
   "outputs": [],
   "source": [
    "nested = [[1, 2], [3, 4], [5, 6]]\n",
    "# Write your list comprehension below\n",
    "flattened = # Your code here"
   ]
  },
  {
   "cell_type": "code",
   "execution_count": null,
   "id": "ad9ba449",
   "metadata": {},
   "outputs": [],
   "source": [
    "print(flattened)  # Expected: [1, 2, 3, 4, 5, 6]"
   ]
  },
  {
   "cell_type": "markdown",
   "id": "2d2acc4f",
   "metadata": {},
   "source": [
    "### 2. Use map, filter, and lambda to extract and transform a numeric list."
   ]
  },
  {
   "cell_type": "markdown",
   "id": "hint-2",
   "metadata": {},
   "source": [
    "<details>\n",
    "<summary>💡 Click for hint</summary>\n",
    "\n",
    "**Approach**: Chain filter, map, and map operations to process the data step by step.\n",
    "\n",
    "**Key concepts**: filter() for even numbers, map() for squaring, map() for string formatting\n",
    "\n",
    "**Steps**: 1) Filter even numbers 2) Square them 3) Format as strings\n",
    "\n",
    "</details>"
   ]
  },
  {
   "cell_type": "code",
   "execution_count": null,
   "id": "f342a072",
   "metadata": {},
   "outputs": [],
   "source": [
    "numbers = [1, 2, 3, 4, 5, 6, 7, 8, 9, 10]\n",
    "# Filter even, square them, then convert to 'Number: X' strings\n",
    "result = # Your code here"
   ]
  },
  {
   "cell_type": "code",
   "execution_count": null,
   "id": "08263aff",
   "metadata": {},
   "outputs": [],
   "source": [
    "print(result)  # Expected: ['Number: 4', 'Number: 16', 'Number: 36', 'Number: 64', 'Number: 100']"
   ]
  },
  {
   "cell_type": "markdown",
   "id": "5ec25358",
   "metadata": {},
   "source": [
    "### 3. Write a function to return the top K most frequent elements from a list."
   ]
  },
  {
   "cell_type": "markdown",
   "id": "hint-3",
   "metadata": {},
   "source": [
    "<details>\n",
    "<summary>💡 Click for hint</summary>\n",
    "\n",
    "**Approach**: Use Counter to count frequencies, then use most_common() method.\n",
    "\n",
    "**Key concepts**: collections.Counter, most_common() method\n",
    "\n",
    "**Steps**: 1) Count frequencies 2) Get top K most common 3) Extract just the elements\n",
    "\n",
    "</details>"
   ]
  },
  {
   "cell_type": "code",
   "execution_count": null,
   "id": "f0984a5c",
   "metadata": {},
   "outputs": [],
   "source": [
    "from collections import Counter\n",
    "\n",
    "def top_k_frequent(lst, k):\n",
    "    # Your code here\n",
    "    pass"
   ]
  },
  {
   "cell_type": "code",
   "execution_count": null,
   "id": "61a02909",
   "metadata": {},
   "outputs": [],
   "source": [
    "print(top_k_frequent([1,1,1,2,2,3], 2))  # Expected: [1, 2]"
   ]
  },
  {
   "cell_type": "markdown",
   "id": "92e3d36f",
   "metadata": {},
   "source": [
    "### 4. Implement a sliding window algorithm to calculate the moving average."
   ]
  },
  {
   "cell_type": "markdown",
   "id": "hint-4",
   "metadata": {},
   "source": [
    "<details>\n",
    "<summary>💡 Click for hint</summary>\n",
    "\n",
    "**Approach**: Use a sliding window of size k and calculate average for each position.\n",
    "\n",
    "**Key concepts**: Sliding window, list slicing, range() function\n",
    "\n",
    "**Steps**: 1) Check if list is long enough 2) Iterate through valid window positions 3) Calculate average for each window\n",
    "\n",
    "</details>"
   ]
  },
  {
   "cell_type": "code",
   "execution_count": null,
   "id": "78a8a661",
   "metadata": {},
   "outputs": [],
   "source": [
    "def moving_average(nums, k):\n",
    "    # Your code here\n",
    "    pass"
   ]
  },
  {
   "cell_type": "code",
   "execution_count": null,
   "id": "8c1ded7d",
   "metadata": {},
   "outputs": [],
   "source": [
    "print(moving_average([1, 2, 3, 4, 5], 3))  # Expected: [2.0, 3.0, 4.0]"
   ]
  },
  {
   "cell_type": "markdown",
   "id": "b0cd273d",
   "metadata": {},
   "source": [
    "### 5. Count word frequency in a paragraph using collections.Counter."
   ]
  },
  {
   "cell_type": "markdown",
   "id": "hint-5",
   "metadata": {},
   "source": [
    "<details>\n",
    "<summary>💡 Click for hint</summary>\n",
    "\n",
    "**Approach**: Clean the text by removing punctuation and converting to lowercase, then count words.\n",
    "\n",
    "**Key concepts**: String methods (lower(), replace(), split()), Counter\n",
    "\n",
    "**Steps**: 1) Convert to lowercase 2) Remove punctuation 3) Split into words 4) Count with Counter\n",
    "\n",
    "</details>"
   ]
  },
  {
   "cell_type": "code",
   "execution_count": null,
   "id": "e5c8d748",
   "metadata": {},
   "outputs": [],
   "source": [
    "from collections import Counter\n",
    "paragraph = \"This is a test. This test is only a test.\"\n",
    "# Clean and count words\n",
    "word_count = # Your code here"
   ]
  },
  {
   "cell_type": "code",
   "execution_count": null,
   "id": "3bbf74b4",
   "metadata": {},
   "outputs": [],
   "source": [
    "print(word_count)  # Expected: Counter({'test': 3, 'this': 2, 'is': 2, 'a': 2, 'only': 1})"
   ]
  },
  {
   "cell_type": "markdown",
   "id": "6b20ed8e",
   "metadata": {},
   "source": [
    "### 6. Group a list of dictionaries by a specific key."
   ]
  },
  {
   "cell_type": "markdown",
   "id": "hint-6",
   "metadata": {},
   "source": [
    "<details>\n",
    "<summary>💡 Click for hint</summary>\n",
    "\n",
    "**Approach**: Use defaultdict to automatically create lists for new keys, then group items.\n",
    "\n",
    "**Key concepts**: defaultdict(list), dictionary access\n",
    "\n",
    "**Steps**: 1) Create defaultdict with list 2) Iterate through data 3) Group by specified key\n",
    "\n",
    "</details>"
   ]
  },
  {
   "cell_type": "code",
   "execution_count": null,
   "id": "7fe3f300",
   "metadata": {},
   "outputs": [],
   "source": [
    "from collections import defaultdict\n",
    "\n",
    "def group_by_key(data, key):\n",
    "    # Your code here\n",
    "    pass"
   ]
  },
  {
   "cell_type": "code",
   "execution_count": null,
   "id": "4e505e61",
   "metadata": {},
   "outputs": [],
   "source": [
    "data = [{'type': 'fruit', 'name': 'apple'}, {'type': 'fruit', 'name': 'banana'}, {'type': 'vegetable', 'name': 'carrot'}]\n",
    "print(group_by_key(data, 'type'))"
   ]
  },
  {
   "cell_type": "markdown",
   "id": "f6753748",
   "metadata": {},
   "source": [
    "### 7. Sort a list of tuples based on the second element using sorted and lambda."
   ]
  },
  {
   "cell_type": "markdown",
   "id": "hint-7",
   "metadata": {},
   "source": [
    "<details>\n",
    "<summary>💡 Click for hint</summary>\n",
    "\n",
    "**Approach**: Use sorted() function with a lambda key function to access the second element.\n",
    "\n",
    "**Key concepts**: sorted() function, lambda functions, tuple indexing\n",
    "\n",
    "**Pattern**: `sorted(data, key=lambda x: x[1])`\n",
    "\n",
    "</details>"
   ]
  },
  {
   "cell_type": "code",
   "execution_count": null,
   "id": "a6112efb",
   "metadata": {},
   "outputs": [],
   "source": [
    "data = [('apple', 3), ('banana', 1), ('cherry', 2)]\n",
    "# Sort the list by the second element\n",
    "sorted_data = # Your code here"
   ]
  },
  {
   "cell_type": "code",
   "execution_count": null,
   "id": "7be2e3b3",
   "metadata": {},
   "outputs": [],
   "source": [
    "print(sorted_data)  # Expected: [('banana', 1), ('cherry', 2), ('apple', 3)]"
   ]
  },
  {
   "cell_type": "markdown",
   "id": "bcd16eb0",
   "metadata": {},
   "source": [
    "### 8. Write a generator function to yield Fibonacci numbers up to N."
   ]
  },
  {
   "cell_type": "markdown",
   "id": "hint-8",
   "metadata": {},
   "source": [
    "<details>\n",
    "<summary>💡 Click for hint</summary>\n",
    "\n",
    "**Approach**: Use two variables to track current and next Fibonacci numbers, yield while less than N.\n",
    "\n",
    "**Key concepts**: Generator functions, yield keyword, Fibonacci sequence\n",
    "\n",
    "**Steps**: 1) Initialize a=0, b=1 2) Yield while a < n 3) Update a, b = b, a+b\n",
    "\n",
    "</details>"
   ]
  },
  {
   "cell_type": "code",
   "execution_count": null,
   "id": "d0050d84",
   "metadata": {},
   "outputs": [],
   "source": [
    "def fibonacci(n):\n",
    "    # Your code here\n",
    "    pass"
   ]
  },
  {
   "cell_type": "code",
   "execution_count": null,
   "id": "b3186984",
   "metadata": {},
   "outputs": [],
   "source": [
    "print(list(fibonacci(10)))  # Expected: [0, 1, 1, 2, 3, 5, 8]"
   ]
  },
  {
   "cell_type": "markdown",
   "id": "99007d0b",
   "metadata": {},
   "source": [
    "### 9. Remove duplicates from a list while preserving order."
   ]
  },
  {
   "cell_type": "markdown",
   "id": "hint-9",
   "metadata": {},
   "source": [
    "<details>\n",
    "<summary>💡 Click for hint</summary>\n",
    "\n",
    "**Approach**: Use a set to track seen items and a list to maintain order.\n",
    "\n",
    "**Key concepts**: Set for O(1) lookup, list for order preservation\n",
    "\n",
    "**Steps**: 1) Create empty set and result list 2) Iterate through sequence 3) Add to result if not seen before\n",
    "\n",
    "</details>"
   ]
  },
  {
   "cell_type": "code",
   "execution_count": null,
   "id": "bb82816b",
   "metadata": {},
   "outputs": [],
   "source": [
    "def remove_duplicates(seq):\n",
    "    # Your code here\n",
    "    pass"
   ]
  },
  {
   "cell_type": "code",
   "execution_count": null,
   "id": "b1ce9936",
   "metadata": {},
   "outputs": [],
   "source": [
    "print(remove_duplicates([1, 2, 2, 3, 1]))  # Expected: [1, 2, 3]"
   ]
  },
  {
   "cell_type": "markdown",
   "id": "30aa245a",
   "metadata": {},
   "source": [
    "### 10. Merge two dictionaries with overlapping keys and sum their values."
   ]
  },
  {
   "cell_type": "markdown",
   "id": "hint-10",
   "metadata": {},
   "source": [
    "<details>\n",
    "<summary>💡 Click for hint</summary>\n",
    "\n",
    "**Approach**: Use Counter objects which can be added together to sum overlapping keys.\n",
    "\n",
    "**Key concepts**: Counter addition, dict() conversion\n",
    "\n",
    "**Pattern**: `dict(Counter(d1) + Counter(d2))`\n",
    "\n",
    "</details>"
   ]
  },
  {
   "cell_type": "code",
   "execution_count": null,
   "id": "8a7ddd1a",
   "metadata": {},
   "outputs": [],
   "source": [
    "from collections import Counter\n",
    "\n",
    "def merge_dicts_sum(d1, d2):\n",
    "    # Your code here\n",
    "    pass"
   ]
  },
  {
   "cell_type": "code",
   "execution_count": null,
   "id": "468f1cb7",
   "metadata": {},
   "outputs": [],
   "source": [
    "print(merge_dicts_sum({'a': 2, 'b': 3}, {'b': 4, 'c': 5}))  # Expected: {'a': 2, 'b': 7, 'c': 5}"
   ]
  },
  {
   "cell_type": "markdown",
   "id": "cecde525",
   "metadata": {},
   "source": [
    "### 11. Identify anagrams from a list of words."
   ]
  },
  {
   "cell_type": "markdown",
   "id": "hint-11",
   "metadata": {},
   "source": [
    "<details>\n",
    "<summary>💡 Click for hint</summary>\n",
    "\n",
    "**Approach**: Group words by their sorted characters, then return groups with more than one word.\n",
    "\n",
    "**Key concepts**: defaultdict, sorted() on strings, list filtering\n",
    "\n",
    "**Steps**: 1) Group by sorted characters 2) Filter groups with length > 1\n",
    "\n",
    "</details>"
   ]
  },
  {
   "cell_type": "code",
   "execution_count": null,
   "id": "4f3ed7ee",
   "metadata": {},
   "outputs": [],
   "source": [
    "from collections import defaultdict\n",
    "\n",
    "def find_anagrams(words):\n",
    "    # Your code here\n",
    "    pass"
   ]
  },
  {
   "cell_type": "code",
   "execution_count": null,
   "id": "8c45a7a2",
   "metadata": {},
   "outputs": [],
   "source": [
    "print(find_anagrams(['bat', 'tab', 'tap', 'pat', 'cat']))  # Expected: [['bat', 'tab'], ['tap', 'pat']]"
   ]
  },
  {
   "cell_type": "markdown",
   "id": "0433242c",
   "metadata": {},
   "source": [
    "### 12. Write a function to check if a string is a valid palindrome (ignoring case and punctuation)."
   ]
  },
  {
   "cell_type": "markdown",
   "id": "hint-12",
   "metadata": {},
   "source": [
    "<details>\n",
    "<summary>💡 Click for hint</summary>\n",
    "\n",
    "**Approach**: Clean the string to keep only alphanumeric characters, then compare with its reverse.\n",
    "\n",
    "**Key concepts**: String methods (isalnum(), lower()), string slicing [::-1]\n",
    "\n",
    "**Steps**: 1) Keep only alphanumeric chars 2) Convert to lowercase 3) Compare with reverse\n",
    "\n",
    "</details>"
   ]
  },
  {
   "cell_type": "code",
   "execution_count": null,
   "id": "f91ea114",
   "metadata": {},
   "outputs": [],
   "source": [
    "import string\n",
    "\n",
    "def is_palindrome(s):\n",
    "    # Your code here\n",
    "    pass"
   ]
  },
  {
   "cell_type": "code",
   "execution_count": null,
   "id": "a1d1241f",
   "metadata": {},
   "outputs": [],
   "source": [
    "print(is_palindrome(\"A man, a plan, a canal: Panama\"))  # Expected: True"
   ]
  },
  {
   "cell_type": "markdown",
   "id": "7e63374a",
   "metadata": {},
   "source": [
    "### 13. Use enumerate() and zip() in a practical example involving parallel iteration."
   ]
  },
  {
   "cell_type": "markdown",
   "id": "hint-13",
   "metadata": {},
   "source": [
    "<details>\n",
    "<summary>💡 Click for hint</summary>\n",
    "\n",
    "**Approach**: Use zip() to pair names with scores, then enumerate() to add ranking numbers.\n",
    "\n",
    "**Key concepts**: enumerate() with start parameter, zip() for parallel iteration\n",
    "\n",
    "**Pattern**: `enumerate(zip(list1, list2), start=1)`\n",
    "\n",
    "</details>"
   ]
  },
  {
   "cell_type": "code",
   "execution_count": null,
   "id": "afa3c48c",
   "metadata": {},
   "outputs": [],
   "source": [
    "names = ['Alice', 'Bob', 'Charlie']\n",
    "scores = [85, 92, 78]\n",
    "# Use enumerate and zip to print ranks\n",
    "# Your code here"
   ]
  },
  {
   "cell_type": "code",
   "execution_count": null,
   "id": "abe1ecee",
   "metadata": {},
   "outputs": [],
   "source": [
    "# Expected output:\n",
    "# 1. Alice: 85\n",
    "# 2. Bob: 92\n",
    "# 3. Charlie: 78"
   ]
  },
  {
   "cell_type": "markdown",
   "id": "67091503",
   "metadata": {},
   "source": [
    "### 14. Create a decorator that measures the execution time of a function."
   ]
  },
  {
   "cell_type": "markdown",
   "id": "hint-14",
   "metadata": {},
   "source": [
    "<details>\n",
    "<summary>💡 Click for hint</summary>\n",
    "\n",
    "**Approach**: Create a wrapper function that records time before and after function execution.\n",
    "\n",
    "**Key concepts**: Decorators, time.time(), wrapper functions, *args and **kwargs\n",
    "\n",
    "**Steps**: 1) Record start time 2) Call original function 3) Record end time 4) Print difference\n",
    "\n",
    "</details>"
   ]
  },
  {
   "cell_type": "code",
   "execution_count": null,
   "id": "d6d17f9c",
   "metadata": {},
   "outputs": [],
   "source": [
    "import time\n",
    "\n",
    "def timer(func):\n",
    "    # Your code here\n",
    "    pass"
   ]
  },
  {
   "cell_type": "code",
   "execution_count": null,
   "id": "cb05fbfd",
   "metadata": {},
   "outputs": [],
   "source": [
    "@timer\n",
    "def slow_function():\n",
    "    time.sleep(1)\n",
    "    return \"Done\"\n",
    "\n",
    "print(slow_function())  # Should print timing info and \"Done\""
   ]
  },
  {
   "cell_type": "markdown",
   "id": "28b748e6",
   "metadata": {},
   "source": [
    "### 15. Implement custom exception handling in a function that processes numeric input."
   ]
  },
  {
   "cell_type": "markdown",
   "id": "hint-15",
   "metadata": {},
   "source": [
    "<details>\n",
    "<summary>💡 Click for hint</summary>\n",
    "\n",
    "**Approach**: Use try-except block to catch ValueError when converting string to int.\n",
    "\n",
    "**Key concepts**: try-except blocks, ValueError exception, int() conversion\n",
    "\n",
    "**Steps**: 1) Try to convert to int 2) Catch ValueError 3) Return appropriate message\n",
    "\n",
    "</details>"
   ]
  },
  {
   "cell_type": "code",
   "execution_count": null,
   "id": "38cedcd9",
   "metadata": {},
   "outputs": [],
   "source": [
    "def process_input(value):\n",
    "    # Your code here\n",
    "    pass"
   ]
  },
  {
   "cell_type": "code",
   "execution_count": null,
   "id": "321fe79a",
   "metadata": {},
   "outputs": [],
   "source": [
    "print(process_input(\"42\"))  # Expected: 42\n",
    "print(process_input(\"abc\"))  # Expected: Error message"
   ]
  },
  {
   "cell_type": "markdown",
   "id": "975bb74d",
   "metadata": {},
   "source": [
    "### 16. Write a function to reverse the keys and values in a dictionary."
   ]
  },
  {
   "cell_type": "markdown",
   "id": "hint-16",
   "metadata": {},
   "source": [
    "<details>\n",
    "<summary>💡 Click for hint</summary>\n",
    "\n",
    "**Approach**: Use dictionary comprehension to swap keys and values.\n",
    "\n",
    "**Key concepts**: Dictionary comprehension, items() method\n",
    "\n",
    "**Pattern**: `{v: k for k, v in dict.items()}`\n",
    "\n",
    "</details>"
   ]
  },
  {
   "cell_type": "code",
   "execution_count": null,
   "id": "622d00c2",
   "metadata": {},
   "outputs": [],
   "source": [
    "def reverse_dict(d):\n",
    "    # Your code here\n",
    "    pass"
   ]
  },
  {
   "cell_type": "code",
   "execution_count": null,
   "id": "079db914",
   "metadata": {},
   "outputs": [],
   "source": [
    "print(reverse_dict({'a': 1, 'b': 2}))  # Expected: {1: 'a', 2: 'b'}"
   ]
  },
  {
   "cell_type": "markdown",
   "id": "1ce4c907",
   "metadata": {},
   "source": [
    "### 17. Use recursion to flatten a deeply nested dictionary."
   ]
  },
  {
   "cell_type": "markdown",
   "id": "hint-17",
   "metadata": {},
   "source": [
    "<details>\n",
    "<summary>💡 Click for hint</summary>\n",
    "\n",
    "**Approach**: Recursively process nested dictionaries, building flattened keys with separators.\n",
    "\n",
    "**Key concepts**: Recursion, isinstance() check, string concatenation\n",
    "\n",
    "**Steps**: 1) Iterate through items 2) Check if value is dict 3) Recurse or add to result\n",
    "\n",
    "</details>"
   ]
  },
  {
   "cell_type": "code",
   "execution_count": null,
   "id": "6b5ee3d7",
   "metadata": {},
   "outputs": [],
   "source": [
    "def flatten_dict(d, parent_key='', sep='.'):\n",
    "    # Your code here\n",
    "    pass"
   ]
  },
  {
   "cell_type": "code",
   "execution_count": null,
   "id": "cc79dd28",
   "metadata": {},
   "outputs": [],
   "source": [
    "nested = {'a': {'b': {'c': 1}}, 'd': 2}\n",
    "print(flatten_dict(nested))  # Expected: {'a.b.c': 1, 'd': 2}"
   ]
  },
  {
   "cell_type": "markdown",
   "id": "3440dd7c",
   "metadata": {},
   "source": [
    "### 18. Implement a function that finds the longest common prefix among a list of strings."
   ]
  },
  {
   "cell_type": "markdown",
   "id": "hint-18",
   "metadata": {},
   "source": [
    "<details>\n",
    "<summary>💡 Click for hint</summary>\n",
    "\n",
    "**Approach**: Start with first string as prefix, then shorten it until all strings start with it.\n",
    "\n",
    "**Key concepts**: String startswith() method, string slicing\n",
    "\n",
    "**Steps**: 1) Handle empty list 2) Use first string as initial prefix 3) Shorten until all match\n",
    "\n",
    "</details>"
   ]
  },
  {
   "cell_type": "code",
   "execution_count": null,
   "id": "3af26bcd",
   "metadata": {},
   "outputs": [],
   "source": [
    "def longest_common_prefix(strs):\n",
    "    # Your code here\n",
    "    pass"
   ]
  },
  {
   "cell_type": "code",
   "execution_count": null,
   "id": "e6aac393",
   "metadata": {},
   "outputs": [],
   "source": [
    "print(longest_common_prefix([\"flower\",\"flow\",\"flight\"]))  # Expected: 'fl'"
   ]
  },
  {
   "cell_type": "markdown",
   "id": "11261f94",
   "metadata": {},
   "source": [
    "### 19. Create a dictionary comprehension that maps characters to their ASCII values."
   ]
  },
  {
   "cell_type": "markdown",
   "id": "hint-19",
   "metadata": {},
   "source": [
    "<details>\n",
    "<summary>💡 Click for hint</summary>\n",
    "\n",
    "**Approach**: Use dictionary comprehension with ord() function to get ASCII values.\n",
    "\n",
    "**Key concepts**: Dictionary comprehension, ord() function\n",
    "\n",
    "**Pattern**: `{char: ord(char) for char in string}`\n",
    "\n",
    "</details>"
   ]
  },
  {
   "cell_type": "code",
   "execution_count": null,
   "id": "27552226",
   "metadata": {},
   "outputs": [],
   "source": [
    "s = 'abc'\n",
    "# Use dictionary comprehension\n",
    "ascii_dict = # Your code here"
   ]
  },
  {
   "cell_type": "code",
   "execution_count": null,
   "id": "b3454c72",
   "metadata": {},
   "outputs": [],
   "source": [
    "print(ascii_dict)  # Expected: {'a': 97, 'b': 98, 'c': 99}"
   ]
  },
  {
   "cell_type": "markdown",
   "id": "ccfad3e6",
   "metadata": {},
   "source": [
    "### 20. Use defaultdict to group values from a list of (key, value) pairs."
   ]
  },
  {
   "cell_type": "markdown",
   "id": "hint-20",
   "metadata": {},
   "source": [
    "<details>\n",
    "<summary>💡 Click for hint</summary>\n",
    "\n",
    "**Approach**: Use defaultdict(list) to automatically create lists for new keys.\n",
    "\n",
    "**Key concepts**: defaultdict(list), tuple unpacking\n",
    "\n",
    "**Steps**: 1) Create defaultdict with list 2) Iterate through pairs 3) Append values to appropriate keys\n",
    "\n",
    "</details>"
   ]
  },
  {
   "cell_type": "code",
   "execution_count": null,
   "id": "ce627760",
   "metadata": {},
   "outputs": [],
   "source": [
    "from collections import defaultdict\n",
    "\n",
    "def group_pairs(pairs):\n",
    "    # Your code here\n",
    "    pass"
   ]
  },
  {
   "cell_type": "code",
   "execution_count": null,
   "id": "d232c357",
   "metadata": {},
   "outputs": [],
   "source": [
    "pairs = [('a', 1), ('b', 2), ('a', 3)]\n",
    "print(group_pairs(pairs))  # Expected: {'a': [1, 3], 'b': [2]}"
   ]
  }
 ],
 "metadata": {
  "kernelspec": {
   "display_name": "Python 3.12.3",
   "language": "python",
   "name": "python3.12.3"
  },
  "language_info": {
   "codemirror_mode": {
    "name": "ipython",
    "version": 3
   },
   "file_extension": ".py",
   "mimetype": "text/x-python",
   "name": "python",
   "nbconvert_exporter": "python",
   "pygments_lexer": "ipython3",
   "version": "3.12.3"
  }
 },
 "nbformat": 4,
 "nbformat_minor": 5
}
